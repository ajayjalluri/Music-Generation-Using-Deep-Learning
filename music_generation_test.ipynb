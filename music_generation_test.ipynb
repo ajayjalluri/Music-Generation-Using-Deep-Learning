{
 "cells": [
  {
   "cell_type": "code",
   "execution_count": 1,
   "metadata": {},
   "outputs": [
    {
     "name": "stderr",
     "output_type": "stream",
     "text": [
      "Using TensorFlow backend.\n",
      "C:\\ProgramData\\Anaconda3\\lib\\site-packages\\tensorflow\\python\\framework\\dtypes.py:523: FutureWarning: Passing (type, 1) or '1type' as a synonym of type is deprecated; in a future version of numpy, it will be understood as (type, (1,)) / '(1,)type'.\n",
      "  _np_qint8 = np.dtype([(\"qint8\", np.int8, 1)])\n",
      "C:\\ProgramData\\Anaconda3\\lib\\site-packages\\tensorflow\\python\\framework\\dtypes.py:524: FutureWarning: Passing (type, 1) or '1type' as a synonym of type is deprecated; in a future version of numpy, it will be understood as (type, (1,)) / '(1,)type'.\n",
      "  _np_quint8 = np.dtype([(\"quint8\", np.uint8, 1)])\n",
      "C:\\ProgramData\\Anaconda3\\lib\\site-packages\\tensorflow\\python\\framework\\dtypes.py:525: FutureWarning: Passing (type, 1) or '1type' as a synonym of type is deprecated; in a future version of numpy, it will be understood as (type, (1,)) / '(1,)type'.\n",
      "  _np_qint16 = np.dtype([(\"qint16\", np.int16, 1)])\n",
      "C:\\ProgramData\\Anaconda3\\lib\\site-packages\\tensorflow\\python\\framework\\dtypes.py:526: FutureWarning: Passing (type, 1) or '1type' as a synonym of type is deprecated; in a future version of numpy, it will be understood as (type, (1,)) / '(1,)type'.\n",
      "  _np_quint16 = np.dtype([(\"quint16\", np.uint16, 1)])\n",
      "C:\\ProgramData\\Anaconda3\\lib\\site-packages\\tensorflow\\python\\framework\\dtypes.py:527: FutureWarning: Passing (type, 1) or '1type' as a synonym of type is deprecated; in a future version of numpy, it will be understood as (type, (1,)) / '(1,)type'.\n",
      "  _np_qint32 = np.dtype([(\"qint32\", np.int32, 1)])\n",
      "C:\\ProgramData\\Anaconda3\\lib\\site-packages\\tensorflow\\python\\framework\\dtypes.py:532: FutureWarning: Passing (type, 1) or '1type' as a synonym of type is deprecated; in a future version of numpy, it will be understood as (type, (1,)) / '(1,)type'.\n",
      "  np_resource = np.dtype([(\"resource\", np.ubyte, 1)])\n",
      "C:\\ProgramData\\Anaconda3\\lib\\site-packages\\tensorboard\\compat\\tensorflow_stub\\dtypes.py:541: FutureWarning: Passing (type, 1) or '1type' as a synonym of type is deprecated; in a future version of numpy, it will be understood as (type, (1,)) / '(1,)type'.\n",
      "  _np_qint8 = np.dtype([(\"qint8\", np.int8, 1)])\n",
      "C:\\ProgramData\\Anaconda3\\lib\\site-packages\\tensorboard\\compat\\tensorflow_stub\\dtypes.py:542: FutureWarning: Passing (type, 1) or '1type' as a synonym of type is deprecated; in a future version of numpy, it will be understood as (type, (1,)) / '(1,)type'.\n",
      "  _np_quint8 = np.dtype([(\"quint8\", np.uint8, 1)])\n",
      "C:\\ProgramData\\Anaconda3\\lib\\site-packages\\tensorboard\\compat\\tensorflow_stub\\dtypes.py:543: FutureWarning: Passing (type, 1) or '1type' as a synonym of type is deprecated; in a future version of numpy, it will be understood as (type, (1,)) / '(1,)type'.\n",
      "  _np_qint16 = np.dtype([(\"qint16\", np.int16, 1)])\n",
      "C:\\ProgramData\\Anaconda3\\lib\\site-packages\\tensorboard\\compat\\tensorflow_stub\\dtypes.py:544: FutureWarning: Passing (type, 1) or '1type' as a synonym of type is deprecated; in a future version of numpy, it will be understood as (type, (1,)) / '(1,)type'.\n",
      "  _np_quint16 = np.dtype([(\"quint16\", np.uint16, 1)])\n",
      "C:\\ProgramData\\Anaconda3\\lib\\site-packages\\tensorboard\\compat\\tensorflow_stub\\dtypes.py:545: FutureWarning: Passing (type, 1) or '1type' as a synonym of type is deprecated; in a future version of numpy, it will be understood as (type, (1,)) / '(1,)type'.\n",
      "  _np_qint32 = np.dtype([(\"qint32\", np.int32, 1)])\n",
      "C:\\ProgramData\\Anaconda3\\lib\\site-packages\\tensorboard\\compat\\tensorflow_stub\\dtypes.py:550: FutureWarning: Passing (type, 1) or '1type' as a synonym of type is deprecated; in a future version of numpy, it will be understood as (type, (1,)) / '(1,)type'.\n",
      "  np_resource = np.dtype([(\"resource\", np.ubyte, 1)])\n"
     ]
    }
   ],
   "source": [
    "import os\n",
    "import json\n",
    "import numpy as np\n",
    "from keras.models import Sequential, load_model\n",
    "from keras.layers import LSTM, Dropout, TimeDistributed, Dense, Activation, Embedding\n"
   ]
  },
  {
   "cell_type": "code",
   "execution_count": 12,
   "metadata": {},
   "outputs": [],
   "source": [
    "DATA_DIR = './data'\n",
    "MODEL_DIR = './model'"
   ]
  },
  {
   "cell_type": "code",
   "execution_count": 4,
   "metadata": {},
   "outputs": [],
   "source": [
    "def save_weights(epoch, model):\n",
    "    if not os.path.exists(MODEL_DIR):\n",
    "        os.makedirs(MODEL_DIR)\n",
    "    model.save_weights(os.path.join(MODEL_DIR, 'weights.{}.h5'.format(epoch)))\n",
    "\n"
   ]
  },
  {
   "cell_type": "code",
   "execution_count": 5,
   "metadata": {},
   "outputs": [],
   "source": [
    "def load_weights(epoch, model):\n",
    "    model.load_weights(os.path.join(MODEL_DIR, 'weights.{}.h5'.format(epoch)))"
   ]
  },
  {
   "cell_type": "code",
   "execution_count": 6,
   "metadata": {},
   "outputs": [],
   "source": [
    "def build_sample_model(vocab_size):\n",
    "    model = Sequential()\n",
    "    model.add(Embedding(vocab_size, 512, batch_input_shape=(1, 1)))\n",
    "    for i in range(3):\n",
    "        model.add(LSTM(256, return_sequences=(i != 2), stateful=True))\n",
    "        model.add(Dropout(0.2))\n",
    "\n",
    "    model.add(Dense(vocab_size))\n",
    "    model.add(Activation('softmax'))\n",
    "    return model"
   ]
  },
  {
   "cell_type": "code",
   "execution_count": 9,
   "metadata": {},
   "outputs": [],
   "source": [
    "def sample(epoch, header, num_chars):\n",
    "    with open(os.path.join(DATA_DIR, 'char_to_idx.json')) as f:\n",
    "        char_to_idx = json.load(f)\n",
    "    idx_to_char = { i: ch for (ch, i) in char_to_idx.items() }\n",
    "    vocab_size = len(char_to_idx)\n",
    "\n",
    "    model = build_sample_model(vocab_size)\n",
    "    load_weights(epoch, model)\n",
    "    model.save(os.path.join(MODEL_DIR, 'model.{}.h5'.format(epoch)))\n",
    "\n",
    "    sampled = [char_to_idx[c] for c in header]\n",
    "    print(sampled)\n",
    "    \n",
    "\n",
    "    for i in range(num_chars):\n",
    "        batch = np.zeros((1, 1))\n",
    "        if sampled:\n",
    "            batch[0, 0] = sampled[-1]\n",
    "        else:\n",
    "            batch[0, 0] = np.random.randint(vocab_size)\n",
    "        result = model.predict_on_batch(batch).ravel()\n",
    "        sample = np.random.choice(range(vocab_size), p=result)\n",
    "        sampled.append(sample)\n",
    "\n",
    "    return ''.join(idx_to_char[c] for c in sampled)"
   ]
  },
  {
   "cell_type": "code",
   "execution_count": 13,
   "metadata": {},
   "outputs": [
    {
     "name": "stdout",
     "output_type": "stream",
     "text": [
      "[58]\n",
      "ag|\"D\"faf dfa|\n",
      "\"Em\"gab \"A7\"aga|\"Em\"be'a \"F#7\"gfe|\"Bm\"fBd \"F#7\"edc|\n",
      "\"Bm\"Bcd \"B7/e\"fed|\"Em\"edB \"A7\"AFD|\"D\"D3 \"A7\"=FDE|\"D\"DFA \"C\"=CEG|\"D\"D3 :|\n",
      "\n",
      "\n",
      "X: 275\n",
      "T:Scottish Reform\n",
      "% Nottingham Music Database\n",
      "Y:AABB\n",
      "S:Kevin Briggs, via EF\n",
      "M:6/8\n",
      "K:G\n",
      "P:A\n",
      "|:d/2c/2|\"G\"B2B B^AB|\"G\"d2d d2B|\"C\"cBc Gce|\"G\"d2B G2:|\n",
      "P:G\n",
      "d|\"G\"dBG DGB|\"G\"DGB dcB|\"C\"cAG EGc|\"G\"BAG G2:|\n",
      "P:B\n",
      "g|\"G\"dBG GBd|\"C\"EFE \"D7\"A2G|\"G/b\"BAG \"C\"EGE|\"D7\"GED D2:|\n",
      "P:B\n",
      "|:d/2d/2|\"G\"dBg dBG|\"C\"cAG EGc|\"C/e\"GBc \"D7\"BcA|\n",
      "\"G\"GBd gdB|\"D\"Add \"A7\"edc|\"D\"dcd \"A7\"edc|\"D\"d3 d2:|\n",
      "\n",
      "\n",
      "X: 36\n",
      "T:Cateaude Jig\n",
      "% Nottingham Music Database\n",
      "S:Trad, arr Phil Rowe\n",
      "M:6/8\n",
      "K:D\n",
      "\"A\"A2A |:\"D\"DAc dee|\"D\"fgf \"A\"efe|\"G\"dcd \"Em\"Bcd|\"A7\"ecA Ace|\n",
      "\"A\"age cde|\"D\"fgf fgf|\"D\"efd \"A7\"Ace|\"D\"d3 -d3:|\n",
      "\n",
      "\n",
      "X: 144\n",
      "T:Julian's Jig\n",
      "% Nottingham Music Database\n",
      "Y:AAB\n",
      "S:Athole p 136, via EF\n",
      "M:6/8\n",
      "K:D\n",
      "P:A\n",
      "|:f/2e/2|\"D\"d2f fga|\"D\"f2a agf|\"A7\"ecA ecA|\"D\"A3 -A2||\n",
      "\n",
      "\n",
      "X: 168\n",
      "T:The Lark in the Clesfer\n",
      "% Nottingham Music Database\n",
      "S:acu Bowuch, via EF\n",
      "M:6/8\n",
      "K:G\n",
      "dc|\"G\"B2B BAB|\"C\"c2e \"D7\"c2A|\"G\"Bcd \"C\"c2B|\\\n",
      "\"D7\"AGF \"G\"G2:|\n",
      "P:B\n",
      "d|\"G\"dBd gd\n"
     ]
    }
   ],
   "source": [
    "print(sample(100,\"a\",1024))"
   ]
  },
  {
   "cell_type": "code",
   "execution_count": null,
   "metadata": {},
   "outputs": [],
   "source": []
  }
 ],
 "metadata": {
  "kernelspec": {
   "display_name": "Python 3",
   "language": "python",
   "name": "python3"
  },
  "language_info": {
   "codemirror_mode": {
    "name": "ipython",
    "version": 3
   },
   "file_extension": ".py",
   "mimetype": "text/x-python",
   "name": "python",
   "nbconvert_exporter": "python",
   "pygments_lexer": "ipython3",
   "version": "3.7.1"
  }
 },
 "nbformat": 4,
 "nbformat_minor": 2
}
